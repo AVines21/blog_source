{
 "cells": [
  {
   "cell_type": "markdown",
   "metadata": {},
   "source": [
    "## Introduction\n",
    "\n",
    "After the recap of the iteration process in Python, in this post we will introduce the concept of generator, which aims to solve some problems that arise from the use of iterators.\n",
    "\n",
    "## Generators\n",
    "\n",
    "The for construct is generally simple to use and such a loop can be found in almost all programming languages. Its implementation, however, can be problematic in some cases. Let’s look at an example:"
   ]
  },
  {
   "cell_type": "code",
   "execution_count": 1,
   "metadata": {
    "collapsed": false
   },
   "outputs": [
    {
     "name": "stdout",
     "output_type": "stream",
     "text": [
      "0\n",
      "1\n",
      "2\n",
      "3\n",
      "4\n"
     ]
    }
   ],
   "source": [
    "def sequence(num):\n",
    "    s = []\n",
    "    i = 0\n",
    "    while i != num:\n",
    "        s.append(i)\n",
    "        i += 1\n",
    "    return s\n",
    "\n",
    "for i in sequence(5):\n",
    "    print(i)"
   ]
  },
  {
   "cell_type": "markdown",
   "metadata": {},
   "source": [
    "At  first sight `sequence()` seems to be a good function without big defects (for the sake of simplicity error checking has been intentionally omitted - it does not work with negative numbers for example - and the code is intentionally non-pythonic).\n",
    "\n",
    "The problem concealed in such code is that the function does not execute the return statement until the whole list has been built. But until the `sequence()` function returns the for loop does not start. Thus, when the loop begins the function **already processed the whole data set**.\n",
    "\n",
    "While you are building normal sequences of numbers this can be considered irrelevant, even for rather long ones. The problem gets worse when the data set becomes very big or when the creation of an element is a very demanding process; in the first case the function might fill the memory, whereas in the second one the whole execution can last a very long time. Both conditions happen even before the loop produces the first element.\n",
    "\n",
    "The solution can be found in the **generation** concept: _generating_, in this context, means producing only one element of the sequence at each function call. This way each call will take the minimum amount of memory and CPU time needed to create the element and the loop will start immediately.\n",
    "\n",
    "To allow the implementation of such a solution without using global variables, generators have been introduced in Python. A **generator** is a special type of iterator, its peculiarity being the way it is built. Aside from this, generators behave the same exact way as iterators.\n",
    "\n",
    "A generator is built from every function that contains the **yield** statement; `yield`’s behaviour follows that of the `return` statement, i.e. it terminates the function returning a value to the caller. But whereas return permanently terminates the function, giving up local variables to the garbage collector, `yield` freezes the function’s code, allowing a later call to resume execution immediately after `yield`, with all local variables initialized as they were during the previous execution.\n",
    "\n",
    "Pay attention to the fact that the first call of a function that contains an `yield` statement returns a generator immediately, without executing a single line of the function’s code. Since a generator is an iterator it automatically exposes a `__next__()` method that, when called, will actually continue the execution of the frozen function.\n",
    "\n",
    "A simple example of generator is the following:"
   ]
  },
  {
   "cell_type": "code",
   "execution_count": 4,
   "metadata": {
    "collapsed": false
   },
   "outputs": [
    {
     "data": {
      "text/plain": [
       "<generator object dec at 0xb5148c34>"
      ]
     },
     "execution_count": 4,
     "metadata": {},
     "output_type": "execute_result"
    }
   ],
   "source": [
    "def dec(num):\n",
    "    print(\"INSIDE dec()\")\n",
    "    x = num\n",
    "    while 1:\n",
    "        x -= 1\n",
    "        yield x\n",
    "\n",
    "g = dec(8)\n",
    "g"
   ]
  },
  {
   "cell_type": "markdown",
   "metadata": {},
   "source": [
    "When executed, the `dec()` function returns a **generator object** and no lines of code have been executed (i.e. `x` has not yet been initialized). Indeed, as you can see, the \"INSIDE dec()\" string has not been printed.\n",
    "\n",
    "As soon as `next()` is called for the first time `x` will be initialized with the value passed to the function (8 in the example above) and the infinite loop will start. Inside it the local variable `x` will be decremented and returned to the caller by `yield`. This latter will also freeze again the code, holding the internal state, in this case the value of the variable `x`."
   ]
  },
  {
   "cell_type": "code",
   "execution_count": 6,
   "metadata": {
    "collapsed": false
   },
   "outputs": [
    {
     "name": "stdout",
     "output_type": "stream",
     "text": [
      "INSIDE dec()\n"
     ]
    },
    {
     "data": {
      "text/plain": [
       "7"
      ]
     },
     "execution_count": 6,
     "metadata": {},
     "output_type": "execute_result"
    }
   ],
   "source": [
    "g.__next__()"
   ]
  },
  {
   "cell_type": "code",
   "execution_count": 7,
   "metadata": {
    "collapsed": false
   },
   "outputs": [
    {
     "data": {
      "text/plain": [
       "6"
      ]
     },
     "execution_count": 7,
     "metadata": {},
     "output_type": "execute_result"
    }
   ],
   "source": [
    "g.__next__()"
   ]
  },
  {
   "cell_type": "code",
   "execution_count": 8,
   "metadata": {
    "collapsed": false
   },
   "outputs": [
    {
     "data": {
      "text/plain": [
       "5"
      ]
     },
     "execution_count": 8,
     "metadata": {},
     "output_type": "execute_result"
    }
   ],
   "source": [
    "g.__next__()"
   ]
  },
  {
   "cell_type": "code",
   "execution_count": 9,
   "metadata": {
    "collapsed": false
   },
   "outputs": [
    {
     "data": {
      "text/plain": [
       "4"
      ]
     },
     "execution_count": 9,
     "metadata": {},
     "output_type": "execute_result"
    }
   ],
   "source": [
    "g.__next__()"
   ]
  },
  {
   "cell_type": "markdown",
   "metadata": {},
   "source": [
    "As you can see the generator `g` remembers its previous state and acts accordingly. The first excution produces also the string we expected. However, subsequent calls do not print the string since the `print()` function is outside the while loop.\n",
    "\n",
    "Since generators are iterators they are allowed to raise the `StopIteration` exception to signal their exhaustion. In the previous example the `dec()` function never raises it, thus providing an infinite generator (or infinite iterator).\n",
    "\n",
    "Another caveat: as for `return` a function is not limited to one statement, but can contain more than one; obviously the peculiarity of yield makes this scenario rather complex, opening at the same time remarkable possibilities such as that of easily build state machines.\n",
    "\n",
    "What happens if we call the function again, maybe with a different value of the parameter? We simply obtain a new generator object that is completely independent from the first one, although it behaves the same way."
   ]
  },
  {
   "cell_type": "code",
   "execution_count": 17,
   "metadata": {
    "collapsed": false
   },
   "outputs": [
    {
     "data": {
      "text/plain": [
       "<generator object dec at 0xb47d1b44>"
      ]
     },
     "execution_count": 17,
     "metadata": {},
     "output_type": "execute_result"
    }
   ],
   "source": [
    "f = dec(12)\n",
    "f"
   ]
  },
  {
   "cell_type": "code",
   "execution_count": 11,
   "metadata": {
    "collapsed": false
   },
   "outputs": [
    {
     "name": "stdout",
     "output_type": "stream",
     "text": [
      "INSIDE dec()\n"
     ]
    },
    {
     "data": {
      "text/plain": [
       "11"
      ]
     },
     "execution_count": 11,
     "metadata": {},
     "output_type": "execute_result"
    }
   ],
   "source": [
    "f.__next__()"
   ]
  },
  {
   "cell_type": "code",
   "execution_count": 12,
   "metadata": {
    "collapsed": false
   },
   "outputs": [
    {
     "data": {
      "text/plain": [
       "3"
      ]
     },
     "execution_count": 12,
     "metadata": {},
     "output_type": "execute_result"
    }
   ],
   "source": [
    "g.__next__()"
   ]
  },
  {
   "cell_type": "code",
   "execution_count": 13,
   "metadata": {
    "collapsed": false
   },
   "outputs": [
    {
     "data": {
      "text/plain": [
       "10"
      ]
     },
     "execution_count": 13,
     "metadata": {},
     "output_type": "execute_result"
    }
   ],
   "source": [
    "f.__next__()"
   ]
  },
  {
   "cell_type": "code",
   "execution_count": 14,
   "metadata": {
    "collapsed": false
   },
   "outputs": [
    {
     "data": {
      "text/plain": [
       "2"
      ]
     },
     "execution_count": 14,
     "metadata": {},
     "output_type": "execute_result"
    }
   ],
   "source": [
    "g.__next__()"
   ]
  },
  {
   "cell_type": "markdown",
   "metadata": {},
   "source": [
    "Let’s recap the whole concept. A function containing the `yield` statement is called generator function and when executed returns a generator object; this is nothing more than a simple iterator, which automatically implements the freeze and resume of the function’s code.\n",
    "\n",
    "Pay attention to the fact that a generator is an iterator (it exposes `__next__()` and `__iter__()` methods and may raise `StopIteration`) but the opposite is not always true. A generator is an iterator built by a generator function, i.e. through the use of the `yield` statement; as previously explained there are other ways to build iterators.\n",
    "\n",
    "Back to the `sequence()` function showed above, we can now write it as a generator function and use it to build arbitrarily long sequences and, at the limit, infinite."
   ]
  },
  {
   "cell_type": "code",
   "execution_count": 24,
   "metadata": {
    "collapsed": false
   },
   "outputs": [
    {
     "data": {
      "text/plain": [
       "0"
      ]
     },
     "execution_count": 24,
     "metadata": {},
     "output_type": "execute_result"
    }
   ],
   "source": [
    "def sequence(num):\n",
    "    i = 0\n",
    "    while 1:\n",
    "        if i == num:\n",
    "            raise StopIteration\n",
    "        yield i\n",
    "        i += 1\n",
    "\n",
    "s = sequence(3)\n",
    "s.__next__()"
   ]
  },
  {
   "cell_type": "code",
   "execution_count": 25,
   "metadata": {
    "collapsed": false
   },
   "outputs": [
    {
     "data": {
      "text/plain": [
       "1"
      ]
     },
     "execution_count": 25,
     "metadata": {},
     "output_type": "execute_result"
    }
   ],
   "source": [
    "s.__next__()"
   ]
  },
  {
   "cell_type": "code",
   "execution_count": 26,
   "metadata": {
    "collapsed": false
   },
   "outputs": [
    {
     "data": {
      "text/plain": [
       "2"
      ]
     },
     "execution_count": 26,
     "metadata": {},
     "output_type": "execute_result"
    }
   ],
   "source": [
    "s.__next__()"
   ]
  },
  {
   "cell_type": "code",
   "execution_count": 28,
   "metadata": {
    "collapsed": false
   },
   "outputs": [
    {
     "name": "stdout",
     "output_type": "stream",
     "text": [
      "StopIteration raised\n"
     ]
    }
   ],
   "source": [
    "try:\n",
    "    s.__next__()\n",
    "except StopIteration:\n",
    "    print(\"StopIteration raised\")"
   ]
  },
  {
   "cell_type": "code",
   "execution_count": 30,
   "metadata": {
    "collapsed": false
   },
   "outputs": [
    {
     "name": "stdout",
     "output_type": "stream",
     "text": [
      "0\n",
      "1\n",
      "2\n"
     ]
    }
   ],
   "source": [
    "for i in sequence(3):\n",
    "    print(i)"
   ]
  },
  {
   "cell_type": "markdown",
   "metadata": {},
   "source": [
    "## Generators and iterators\n",
    "\n",
    "A question might arise: if generators are iterators why should we use the `yield`-based method to create them? After all, generator functions are simple to write but not so simple to manage, due to the radically different behaviour from that of standard functions. Wouldn’t it be enough to create an iterable object that at each call of the `next()` method creates the correct element of the sequence?\n",
    "\n",
    "The answer is certainly affirmative: everything you can do with generators can be done with standard iterators. There are two caveats, however.\n",
    "\n",
    "First consideration is about performances: instancing an object and calling its methods is slower than calling a function. Every time you hear talking about performance problems always think about Web services, administration or scientific tools and in general about big amount of data. Obviously a script that manages a dozen or so files is not noticeably affected by such problems.\n",
    "\n",
    "Second consideration is about code complexity, since writing a function is simpler than writing an object. Take into account, however, that an iterable object can be enriched by custom methods that make it more flexible than a generator; for instance a `reset()` method that can restore the object to its initial state.\n",
    "\n",
    "## Generator expressions\n",
    "\n",
    "The two observations above identify the problems that generators can solve in a simpler way than iterators do; one of those problems concerns the processing of long arrays of data.\n",
    "\n",
    "Every Python programmer uses and hopefully appreciates the elegance of list comprehension. The following code instances with a single line 100 objects of the `MyObject` class and puts them in a list\n",
    "\n",
    "``` python\n",
    "object_list = [MyObject() for i in range(100)]\n",
    "```\n",
    "\n",
    "where the classic code would be\n",
    "\n",
    "``` python\n",
    "object_list = []\n",
    "for i in range(100):\n",
    "\tobject_list.append(MyObject())\n",
    "```\n",
    "\n",
    "Surely it is not a lot of code, but it is less easy to understand immediately and less elegant; less pythonic, in a word. List comprehension, however, being nothing more than an alternative syntax to express the above for loop, suffers from the same problems, particularly from performance issues we talked about earlier. Bitter enemies of list comprehensions are long lists and objects which creation is expensive.\n",
    "\n",
    "Could we take advantage of generators in this case? Yes, with **generator expressions**. The syntax of such expressions is identical to that of list comprehension, except for the use of round brackets instead of square ones. While list comprehension returns a list, however, a generator expression return a generator, as the name implies. The previous code could thus be written this way\n",
    "\n",
    "``` python\n",
    "object_generator = (MyObject() for i in range(100))\n",
    "```\n",
    "\n",
    "where `object_generator` is a generator like one of those returned by a generator function. This latter form of the code would be\n",
    "\n",
    "``` python\n",
    "def object_generator_function():\n",
    "\tfor i in range(100):\n",
    "\t\tyield MyObject()\n",
    "\n",
    "object_generator = object_generator_function()\n",
    "```\n",
    "\n",
    "Which is, as happens for list comprehension and for loops, less elegant than its equivalent shortcut syntax. Obviously, returning a generator has all the advantages we described above: after the generator expression has been executed no element has yet been created. That will happen when the generator is consumed by a for loop or a similar construct.\n",
    "\n",
    "As for list comprehension, generator expressions can encompass a condition in the form\n",
    "\n",
    "``` python\n",
    "generator = (expression for i in s if condition).\n",
    "```\n",
    "\n",
    "and can also be directly used as arguments for single-argument functions, using function call brackets to mark the expression.\n",
    "\n",
    "``` python\n",
    "afunction(expression for i in s)\n",
    "```\n",
    "\n",
    "There is however no real performance improvement using such a syntax, since the generator is exhausted before passing it to the function, but the syntax is very elegant and compact.\n",
    "\n",
    "A typical example of this use is that of the so-called **dictionary comprehension**; from two lists of the same length, one of keys and one of values, we can obtain a dictionary with\n",
    "\n",
    "``` python\n",
    "d = dict(z for z in zip(keys, values))\n",
    "```\n",
    "\n",
    "since `dict()` accepts an iterable of `(key, value)` tuples, which is what the generator with `zip()` returns.\n",
    "\n",
    "## Conclusions\n",
    "\n",
    "Generators are a very powerful tool, not only because they simplify the creation of iterators, but also for the advantage of delaying the creation of the objects in a list and for the capability of generator functions to interrupt and resume the execution. As we will see in the third post this last feature is the foundation stone of an easy approach to cooperative multitasking."
   ]
  }
 ],
 "metadata": {
  "kernelspec": {
   "display_name": "Python 3",
   "language": "python",
   "name": "python3"
  },
  "language_info": {
   "codemirror_mode": {
    "name": "ipython",
    "version": 3
   },
   "file_extension": ".py",
   "mimetype": "text/x-python",
   "name": "python",
   "nbconvert_exporter": "python",
   "pygments_lexer": "ipython3",
   "version": "3.4.2"
  }
 },
 "nbformat": 4,
 "nbformat_minor": 0
}
